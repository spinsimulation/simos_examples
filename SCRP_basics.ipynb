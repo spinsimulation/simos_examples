{
 "cells": [
  {
   "cell_type": "code",
   "execution_count": null,
   "metadata": {},
   "outputs": [],
   "source": [
    "import simos as sos\n",
    "import numpy as np\n",
    "import matplotlib as mpl\n",
    "import matplotlib.pyplot as plt\n",
    "import sympy as smp"
   ]
  },
  {
   "cell_type": "markdown",
   "metadata": {},
   "source": [
    "### In this notebook, we will explore the basic spin physics of simple radical pair systems. We will work in the sympy framework that allows for symbolic calculations. \n"
   ]
  },
  {
   "cell_type": "markdown",
   "metadata": {},
   "source": [
    "Photogenerated spin-correlated radical pairs (SCRPs) are entangled electron spin pairs formed in well-defined spin states. Spin chemistry of SCRPs plays important roles in biology, $e.g.$, in solar energy harvesting by photosynthetic reaction centers, and has been implicated in the leading hypothesis for magnetoreception $via$ the radical pair mechanism (RPM) in blue-light sensitive cryptochromes. Synthetic molecules mimicking these biologically relevant species have also garnered recent interest for chemical approaches to quantum sensing, $e.g.$ of magnetic fields, and quantum information science (QIS)."
   ]
  },
  {
   "cell_type": "markdown",
   "metadata": {},
   "source": [
    "### The Spinsystem "
   ]
  },
  {
   "cell_type": "markdown",
   "metadata": {},
   "source": [
    "In the simplest case, if the coupling to additional nuclear or electronic spins are neglected, the SCRP is a two-spin system consisting of just two electron spins.  \n",
    "We initialise this simple system. Note that we use sympy as a method during system construction to allow for symbolic calculations. "
   ]
  },
  {
   "cell_type": "code",
   "execution_count": null,
   "metadata": {},
   "outputs": [],
   "source": [
    "# Spin 1 \n",
    "A = {'val': 1/2, 'name':'A'} \n",
    "# Spin 2\n",
    "B = {'val': 1/2 , 'name':'B'}\n",
    "# Construct the system with the sympy framework\n",
    "s = sos.System([A,B], method = \"sympy\")"
   ]
  },
  {
   "cell_type": "markdown",
   "metadata": {},
   "source": [
    "All spin operators of the system have been constructed in the Zeeman basis and can be accessed as attributes of the class \"s\"."
   ]
  },
  {
   "cell_type": "code",
   "execution_count": null,
   "metadata": {},
   "outputs": [
    {
     "data": {
      "text/latex": [
       "$\\displaystyle \\left[\\begin{matrix}\\frac{1}{2} & 0 & 0 & 0\\\\0 & \\frac{1}{2} & 0 & 0\\\\0 & 0 & - \\frac{1}{2} & 0\\\\0 & 0 & 0 & - \\frac{1}{2}\\end{matrix}\\right]$"
      ],
      "text/plain": [
       "Matrix([\n",
       "[1/2,   0,    0,    0],\n",
       "[  0, 1/2,    0,    0],\n",
       "[  0,   0, -1/2,    0],\n",
       "[  0,   0,    0, -1/2]])"
      ]
     },
     "execution_count": null,
     "metadata": {},
     "output_type": "execute_result"
    }
   ],
   "source": [
    "s.Az # z-operator of the spin A  "
   ]
  },
  {
   "cell_type": "markdown",
   "metadata": {},
   "source": [
    "The spin-dynamics of SCRPs are, however, often described in the coupled singlet-triplet representation. To access the singlet and triplet states, we define a \"ghost-spin\"  \"C\". "
   ]
  },
  {
   "cell_type": "code",
   "execution_count": null,
   "metadata": {},
   "outputs": [],
   "source": [
    "s.add_ghostspin(\"C\", [\"A\", \"B\"])"
   ]
  },
  {
   "cell_type": "markdown",
   "metadata": {},
   "source": [
    "We can now access singlet S and Triplet (ms=0) states in the Zeeman basis."
   ]
  },
  {
   "cell_type": "code",
   "execution_count": null,
   "metadata": {},
   "outputs": [
    {
     "data": {
      "text/latex": [
       "$\\displaystyle \\left[\\begin{matrix}0 & 0 & 0 & 0\\\\0 & \\frac{1}{2} & - \\frac{1}{2} & 0\\\\0 & - \\frac{1}{2} & \\frac{1}{2} & 0\\\\0 & 0 & 0 & 0\\end{matrix}\\right]$"
      ],
      "text/plain": [
       "Matrix([\n",
       "[0,    0,    0, 0],\n",
       "[0,  1/2, -1/2, 0],\n",
       "[0, -1/2,  1/2, 0],\n",
       "[0,    0,    0, 0]])"
      ]
     },
     "execution_count": null,
     "metadata": {},
     "output_type": "execute_result"
    }
   ],
   "source": [
    "s.C_1p[0]"
   ]
  },
  {
   "cell_type": "code",
   "execution_count": null,
   "metadata": {},
   "outputs": [
    {
     "data": {
      "text/latex": [
       "$\\displaystyle \\left[\\begin{matrix}0 & 0 & 0 & 0\\\\0 & \\frac{1}{2} & \\frac{1}{2} & 0\\\\0 & \\frac{1}{2} & \\frac{1}{2} & 0\\\\0 & 0 & 0 & 0\\end{matrix}\\right]$"
      ],
      "text/plain": [
       "Matrix([\n",
       "[0,   0,   0, 0],\n",
       "[0, 1/2, 1/2, 0],\n",
       "[0, 1/2, 1/2, 0],\n",
       "[0,   0,   0, 0]])"
      ]
     },
     "execution_count": null,
     "metadata": {},
     "output_type": "execute_result"
    }
   ],
   "source": [
    "s.C_3p[0]"
   ]
  },
  {
   "cell_type": "markdown",
   "metadata": {},
   "source": [
    "We can also transform any operator of the spin system from the Zeeman in to the Singlet-Triplet Basis very easily. The required transformation matrix has automatically been built when we added the \"ghost_spin\" to the system.  For example, we transform the singlet state by:"
   ]
  },
  {
   "cell_type": "code",
   "execution_count": null,
   "metadata": {},
   "outputs": [
    {
     "data": {
      "text/latex": [
       "$\\displaystyle \\left[\\begin{matrix}1 & 0 & 0 & 0\\\\0 & 0 & 0 & 0\\\\0 & 0 & 0 & 0\\\\0 & 0 & 0 & 0\\end{matrix}\\right]$"
      ],
      "text/plain": [
       "Matrix([\n",
       "[1, 0, 0, 0],\n",
       "[0, 0, 0, 0],\n",
       "[0, 0, 0, 0],\n",
       "[0, 0, 0, 0]])"
      ]
     },
     "execution_count": null,
     "metadata": {},
     "output_type": "execute_result"
    }
   ],
   "source": [
    "s.C_1p[0].transform(s.toC)"
   ]
  },
  {
   "cell_type": "markdown",
   "metadata": {},
   "source": [
    "#### Initial States of Radical Pairs "
   ]
  },
  {
   "cell_type": "markdown",
   "metadata": {},
   "source": [
    "Spin-correlated radicals pairs are typically formed as singlets since they are formed upon electron transfer which is normally a spin-conserving process. However, if the system is chiral, the so-called chirality-induced spin-selectivity effect might induce a partial triplet-character in the initial states.\n",
    "Most generally, as proposed recently by our group,6 the initial spin state of an SCRP aligned with\n",
    "the external magnetic field, $\\ket{\\psi}$, can be expressed as\n",
    "\n",
    "\\begin{equation*}\n",
    "\\ket{\\psi} = \\cos{\\alpha} \\ket{S} +  e^{i\\beta} \\sin{\\alpha} \\ket{T_0} \n",
    "\\end{equation*}\n"
   ]
  },
  {
   "cell_type": "code",
   "execution_count": null,
   "metadata": {},
   "outputs": [],
   "source": [
    "alpha = smp.Symbol(\"alpha\", positive = True)\n",
    "beta =  smp.Symbol( \"beta\", positive = True)\n",
    "\n",
    "S = sos.dm2ket(s.C_1p[0]).simplify()\n",
    "T0 = sos.dm2ket(s.C_3p[0]).simplify()\n",
    "\n",
    "psi0 = (smp.cos(alpha) * S + smp.exp(smp.I*beta)*smp.sin(alpha)*T0).simplify()\n",
    "rho0 = sos.ket2dm(psi0.simplify()).simplify()"
   ]
  },
  {
   "cell_type": "code",
   "execution_count": null,
   "metadata": {},
   "outputs": [
    {
     "data": {
      "text/latex": [
       "$\\displaystyle \\left[\\begin{matrix}0 & 0 & 0 & 0\\\\0 & - \\frac{\\left(e^{i \\beta} \\sin{\\left(\\alpha \\right)} - \\cos{\\left(\\alpha \\right)}\\right) \\left(e^{i \\beta} \\cos{\\left(\\alpha \\right)} - \\sin{\\left(\\alpha \\right)}\\right) e^{- i \\beta}}{2} & \\frac{\\left(e^{i \\beta} \\sin{\\left(\\alpha \\right)} - \\cos{\\left(\\alpha \\right)}\\right) \\left(e^{i \\beta} \\cos{\\left(\\alpha \\right)} + \\sin{\\left(\\alpha \\right)}\\right) e^{- i \\beta}}{2} & 0\\\\0 & - \\frac{\\left(e^{i \\beta} \\sin{\\left(\\alpha \\right)} + \\cos{\\left(\\alpha \\right)}\\right) \\left(e^{i \\beta} \\cos{\\left(\\alpha \\right)} - \\sin{\\left(\\alpha \\right)}\\right) e^{- i \\beta}}{2} & \\frac{\\left(e^{i \\beta} \\sin{\\left(\\alpha \\right)} + \\cos{\\left(\\alpha \\right)}\\right) \\left(e^{i \\beta} \\cos{\\left(\\alpha \\right)} + \\sin{\\left(\\alpha \\right)}\\right) e^{- i \\beta}}{2} & 0\\\\0 & 0 & 0 & 0\\end{matrix}\\right]$"
      ],
      "text/plain": [
       "Matrix([\n",
       "[0,                                                                                           0,                                                                                          0, 0],\n",
       "[0, -(exp(I*beta)*sin(alpha) - cos(alpha))*(exp(I*beta)*cos(alpha) - sin(alpha))*exp(-I*beta)/2, (exp(I*beta)*sin(alpha) - cos(alpha))*(exp(I*beta)*cos(alpha) + sin(alpha))*exp(-I*beta)/2, 0],\n",
       "[0, -(exp(I*beta)*sin(alpha) + cos(alpha))*(exp(I*beta)*cos(alpha) - sin(alpha))*exp(-I*beta)/2, (exp(I*beta)*sin(alpha) + cos(alpha))*(exp(I*beta)*cos(alpha) + sin(alpha))*exp(-I*beta)/2, 0],\n",
       "[0,                                                                                           0,                                                                                          0, 0]])"
      ]
     },
     "execution_count": null,
     "metadata": {},
     "output_type": "execute_result"
    }
   ],
   "source": [
    "rho0"
   ]
  },
  {
   "cell_type": "markdown",
   "metadata": {},
   "source": [
    "If the radical pair is $\\textbf{not}$ oriented parallel to the magnetic fied but stands at polar angles ($\\theta, \\phi$) to the magnetic field vector, we have to modify our description of the initial state to \n",
    "\n",
    "\\begin{equation*}\n",
    "\\ket{\\psi} = \\cos{\\alpha} \\ket{S} +  e^{i\\beta}\\sin{\\alpha}( \\cos{\\theta} \\ket{T_0}  +  e^{i\\phi} \\frac{\\sin{\\phi}}{\\sqrt{2}}\\ket{T_+} +e^{-i\\phi} \\frac{\\sin{\\phi}}{\\sqrt{2}} \\ket{T_-} ) \n",
    "\\end{equation*}\n",
    "\n",
    "While the singlet fraction is invariant under spatial rotation, the triplet states are interconverted by changing the position of the molecular axis relative to the external field. \n",
    "\n",
    "We further assess the occupation of the individual triplet sublevels by rotating the angle $\\theta$ of a pair that is initially a pure $\\ket{T_0}$ state from 0 to 360 degrees. "
   ]
  },
  {
   "cell_type": "code",
   "execution_count": null,
   "metadata": {},
   "outputs": [],
   "source": [
    "theta = smp.Symbol(\"theta\")\n",
    "rho_theta0 = s.C_3p[0]\n",
    "rho_theta = sos.rotate_operator(s, rho_theta0, 0, theta, 0)"
   ]
  },
  {
   "cell_type": "code",
   "execution_count": null,
   "metadata": {},
   "outputs": [],
   "source": [
    "observables = [s.C_1p[0], s.C_3p[-1], s.C_3p[0], s.C_3p[1]]\n",
    "angles = np.linspace(0, np.deg2rad(361), 360)\n",
    "populations = np.empty((len(angles), len(observables)), dtype = complex)\n",
    "\n",
    "for ind_a, a in enumerate(np.linspace(0, np.deg2rad(361), 360)):\n",
    "    rhoeval = rho_theta.subs(theta, a)\n",
    "    for ind_o, o in enumerate(observables):\n",
    "        populations[ind_a, ind_o] = sos.expect(rhoeval, o)"
   ]
  },
  {
   "cell_type": "code",
   "execution_count": null,
   "metadata": {},
   "outputs": [
    {
     "data": {
      "image/png": "[encoded data removed]",
      "text/plain": [
       "<Figure size 400x300 with 1 Axes>"
      ]
     },
     "metadata": {},
     "output_type": "display_data"
    }
   ],
   "source": [
    "fig  = plt.figure(figsize=(4,3))\n",
    "plt.plot(np.real(populations[:,0]), color = \"violet\", label = r\"|S$\\rangle$\")\n",
    "plt.plot(np.real(populations[:,1]), color = \"darkred\", label = r\"|T$_-\\rangle$\")\n",
    "plt.plot(np.real(populations[:,2]), color = \"olivedrab\", label = r\"|T$_0\\rangle$\")\n",
    "plt.plot(np.real(populations[:,3]), color = \"royalblue\", ls = \"dashed\", label = r\"|T$_+\\rangle$\")\n",
    "plt.ylim([-0.1, 1.1])\n",
    "plt.xlabel(r\"$\\theta$ (deg.)\")\n",
    "plt.ylabel(r\"|$\\psi\\rangle$$\\langle\\psi$|\")\n",
    "plt.legend(loc = \"upper right\")\n",
    "plt.show()"
   ]
  },
  {
   "cell_type": "markdown",
   "metadata": {},
   "source": [
    "#### The Hamiltonian"
   ]
  },
  {
   "cell_type": "markdown",
   "metadata": {},
   "source": [
    "We now consider the evolution of a radical pair under the Zeeman interaction and an isotropic  J-coupling. Here, we work in the laboratroy frame of reference such that the chemical shift Hamiltonians are reduced to offsets and the J coupling is reduced to the pseudosecular component. "
   ]
  },
  {
   "cell_type": "code",
   "execution_count": null,
   "metadata": {},
   "outputs": [],
   "source": [
    "Omega1 = smp.Symbol(\"Omega_1\") # Chemical shift offset of spin 1\n",
    "Omega2 = smp.Symbol(\"Omega_2\") # Chemical shift offset of spin 2\n",
    "J = smp.Symbol(\"J\") # J-coupling\n",
    "\n",
    "\n",
    "Hz = Omega1 * s.Az + Omega2 * s.Bz \n",
    "HJ = J * (s.Ax*s.Bx + s.Ay*s.By + s.Az*s.Bz) \n",
    "Htot = Hz + HJ "
   ]
  },
  {
   "cell_type": "markdown",
   "metadata": {},
   "source": [
    "Let us now have a look at this Hamiltonian in the Zeeman and in the Singlet Triplet basis: "
   ]
  },
  {
   "cell_type": "code",
   "execution_count": null,
   "metadata": {},
   "outputs": [
    {
     "data": {
      "text/latex": [
       "$\\displaystyle \\left[\\begin{matrix}\\frac{J}{4} + \\frac{\\Omega_{1}}{2} + \\frac{\\Omega_{2}}{2} & 0 & 0 & 0\\\\0 & - \\frac{J}{4} + \\frac{\\Omega_{1}}{2} - \\frac{\\Omega_{2}}{2} & \\frac{J}{2} & 0\\\\0 & \\frac{J}{2} & - \\frac{J}{4} - \\frac{\\Omega_{1}}{2} + \\frac{\\Omega_{2}}{2} & 0\\\\0 & 0 & 0 & \\frac{J}{4} - \\frac{\\Omega_{1}}{2} - \\frac{\\Omega_{2}}{2}\\end{matrix}\\right]$"
      ],
      "text/plain": [
       "Matrix([\n",
       "[J/4 + Omega_1/2 + Omega_2/2,                            0,                            0,                           0],\n",
       "[                          0, -J/4 + Omega_1/2 - Omega_2/2,                          J/2,                           0],\n",
       "[                          0,                          J/2, -J/4 - Omega_1/2 + Omega_2/2,                           0],\n",
       "[                          0,                            0,                            0, J/4 - Omega_1/2 - Omega_2/2]])"
      ]
     },
     "execution_count": null,
     "metadata": {},
     "output_type": "execute_result"
    }
   ],
   "source": [
    "Htot"
   ]
  },
  {
   "cell_type": "code",
   "execution_count": null,
   "metadata": {},
   "outputs": [
    {
     "data": {
      "text/latex": [
       "$\\displaystyle \\left[\\begin{matrix}- \\frac{3 J}{4} & 0 & - \\frac{\\Omega_{1}}{2} + \\frac{\\Omega_{2}}{2} & 0\\\\0 & \\frac{J}{4} + \\frac{\\Omega_{1}}{2} + \\frac{\\Omega_{2}}{2} & 0 & 0\\\\- \\frac{\\Omega_{1}}{2} + \\frac{\\Omega_{2}}{2} & 0 & \\frac{J}{4} & 0\\\\0 & 0 & 0 & \\frac{J}{4} - \\frac{\\Omega_{1}}{2} - \\frac{\\Omega_{2}}{2}\\end{matrix}\\right]$"
      ],
      "text/plain": [
       "Matrix([\n",
       "[                -3*J/4,                           0, -Omega_1/2 + Omega_2/2,                           0],\n",
       "[                     0, J/4 + Omega_1/2 + Omega_2/2,                      0,                           0],\n",
       "[-Omega_1/2 + Omega_2/2,                           0,                    J/4,                           0],\n",
       "[                     0,                           0,                      0, J/4 - Omega_1/2 - Omega_2/2]])"
      ]
     },
     "execution_count": null,
     "metadata": {},
     "output_type": "execute_result"
    }
   ],
   "source": [
    "Htot.transform(s.toC).simplify()"
   ]
  },
  {
   "cell_type": "markdown",
   "metadata": {},
   "source": [
    "We can easily verify that the J coupling drives transitions in the zero-quantum subspace of the Zeeman basis while differences in the g-factors of the radicals mediate Singlet-Triplet interconversion. Neither the Zeeman interaction nor the J coupling does mediate transitions between zero- and double quantum subspaces. \n",
    "For completeness, let us also evaluate the eigenvalues of this system. "
   ]
  },
  {
   "cell_type": "markdown",
   "metadata": {},
   "source": [
    "#### Influence of coupled nuclei"
   ]
  },
  {
   "cell_type": "markdown",
   "metadata": {},
   "source": [
    "To gauge the influence of couplings to surrounding nuclei, we can now introduce a nuclear spin to our system that is coupled to Spin \"A\" of our SCRP. "
   ]
  },
  {
   "cell_type": "code",
   "execution_count": null,
   "metadata": {},
   "outputs": [],
   "source": [
    "# Spin 2\n",
    "H = {'val': 1/2 , 'name':'H'}\n",
    "A = {'val': 1/2 , 'name':'A'}\n",
    "B = {'val': 1/2 , 'name':'B'}\n",
    "\n",
    "# Construct the system:\n",
    "s2 = sos.System([A,B, H], method = \"sympy\")\n",
    "s2.add_ghostspin(\"C\", [\"A\", \"B\"])"
   ]
  },
  {
   "cell_type": "markdown",
   "metadata": {},
   "source": [
    "We define a hyperfine interaction with one of the electron spins, transform it into the singlet-triplet basis and trace out the nuclear degrees of freedom."
   ]
  },
  {
   "cell_type": "code",
   "execution_count": null,
   "metadata": {},
   "outputs": [],
   "source": [
    "a = smp.Symbol(\"a\")\n",
    "Hhfi = a*(s2.Hz*s2.Ax + s2.Hz*s2.Ay + s2.Hz*s2.Az )  # high field for the nucleus but not for the electron"
   ]
  },
  {
   "cell_type": "code",
   "execution_count": null,
   "metadata": {},
   "outputs": [],
   "source": [
    "Hhfi_st = Hhfi.transform(s2.toC)\n",
    "Hhfi_st_sub, _, _ = sos.subsystem(s2, Hhfi_st, [H], keep = False)"
   ]
  },
  {
   "cell_type": "code",
   "execution_count": null,
   "metadata": {},
   "outputs": [
    {
     "data": {
      "text/latex": [
       "$\\displaystyle \\left[\\begin{matrix}0 & \\frac{\\sqrt{2} a \\left(- \\frac{1}{4} - \\frac{i}{4}\\right)}{2} + \\frac{\\sqrt{2} a \\left(\\frac{1}{4} + \\frac{i}{4}\\right)}{2} & 0 & - \\frac{\\sqrt{2} a \\left(- \\frac{1}{4} + \\frac{i}{4}\\right)}{2} - \\frac{\\sqrt{2} a \\left(\\frac{1}{4} - \\frac{i}{4}\\right)}{2}\\\\\\frac{\\sqrt{2} a \\left(\\frac{1}{4} - \\frac{i}{4}\\right)}{2} + \\frac{\\sqrt{2} a \\left(- \\frac{1}{4} + \\frac{i}{4}\\right)}{2} & 0 & \\frac{\\sqrt{2} a \\left(\\frac{1}{4} - \\frac{i}{4}\\right)}{2} + \\frac{\\sqrt{2} a \\left(- \\frac{1}{4} + \\frac{i}{4}\\right)}{2} & 0\\\\0 & \\frac{\\sqrt{2} a \\left(- \\frac{1}{4} - \\frac{i}{4}\\right)}{2} + \\frac{\\sqrt{2} a \\left(\\frac{1}{4} + \\frac{i}{4}\\right)}{2} & 0 & \\frac{\\sqrt{2} a \\left(\\frac{1}{4} - \\frac{i}{4}\\right)}{2} + \\frac{\\sqrt{2} a \\left(- \\frac{1}{4} + \\frac{i}{4}\\right)}{2}\\\\- \\frac{\\sqrt{2} a \\left(\\frac{1}{4} + \\frac{i}{4}\\right)}{2} - \\frac{\\sqrt{2} a \\left(- \\frac{1}{4} - \\frac{i}{4}\\right)}{2} & 0 & \\frac{\\sqrt{2} a \\left(- \\frac{1}{4} - \\frac{i}{4}\\right)}{2} + \\frac{\\sqrt{2} a \\left(\\frac{1}{4} + \\frac{i}{4}\\right)}{2} & 0\\end{matrix}\\right]$"
      ],
      "text/plain": [
       "Matrix([\n",
       "[                                                  0, sqrt(2)*a*(-1/4 - I/4)/2 + sqrt(2)*a*(1/4 + I/4)/2,                                                  0, -sqrt(2)*a*(-1/4 + I/4)/2 - sqrt(2)*a*(1/4 - I/4)/2],\n",
       "[ sqrt(2)*a*(1/4 - I/4)/2 + sqrt(2)*a*(-1/4 + I/4)/2,                                                  0, sqrt(2)*a*(1/4 - I/4)/2 + sqrt(2)*a*(-1/4 + I/4)/2,                                                   0],\n",
       "[                                                  0, sqrt(2)*a*(-1/4 - I/4)/2 + sqrt(2)*a*(1/4 + I/4)/2,                                                  0,  sqrt(2)*a*(1/4 - I/4)/2 + sqrt(2)*a*(-1/4 + I/4)/2],\n",
       "[-sqrt(2)*a*(1/4 + I/4)/2 - sqrt(2)*a*(-1/4 - I/4)/2,                                                  0, sqrt(2)*a*(-1/4 - I/4)/2 + sqrt(2)*a*(1/4 + I/4)/2,                                                   0]])"
      ]
     },
     "execution_count": null,
     "metadata": {},
     "output_type": "execute_result"
    }
   ],
   "source": [
    "Hhfi_st_sub"
   ]
  },
  {
   "cell_type": "markdown",
   "metadata": {},
   "source": [
    "Clearly, the hyperfine interaction also mediates transitions from the zero- into the double quantum subspace. "
   ]
  },
  {
   "cell_type": "markdown",
   "metadata": {},
   "source": [
    "## Next steps"
   ]
  },
  {
   "cell_type": "markdown",
   "metadata": {},
   "source": [
    "This notebook provides an introduction on how to assess the spin physics of spin-correlated radical pairs with the symbolic backend of SimOS. You may continue from here to explore your system of interest. "
   ]
  }
 ],
 "metadata": {
  "kernelspec": {
   "display_name": "spin",
   "language": "python",
   "name": "python3"
  },
  "language_info": {
   "codemirror_mode": {
    "name": "ipython",
    "version": 3
   },
   "file_extension": ".py",
   "mimetype": "text/x-python",
   "name": "python",
   "nbconvert_exporter": "python",
   "pygments_lexer": "ipython3"
  }
 },
 "nbformat": 4,
 "nbformat_minor": 2
}
